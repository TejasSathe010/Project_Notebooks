{
  "nbformat": 4,
  "nbformat_minor": 0,
  "metadata": {
    "colab": {
      "name": "titanic_pred_using_NN.ipynb",
      "provenance": []
    },
    "kernelspec": {
      "name": "python3",
      "display_name": "Python 3"
    }
  },
  "cells": [
    {
      "cell_type": "code",
      "metadata": {
        "id": "TD5tT78UWEZk",
        "colab_type": "code",
        "colab": {}
      },
      "source": [
        "!pip install -q kaggle"
      ],
      "execution_count": 51,
      "outputs": []
    },
    {
      "cell_type": "code",
      "metadata": {
        "id": "O_kf7wPLWdIS",
        "colab_type": "code",
        "colab": {
          "base_uri": "https://localhost:8080/",
          "height": 34
        },
        "outputId": "2da228f4-0c21-46ef-8096-6bd6c1186cfb"
      },
      "source": [
        "from google.colab import drive\n",
        "drive.mount('/content/gdrive/', force_remount=True) "
      ],
      "execution_count": 52,
      "outputs": [
        {
          "output_type": "stream",
          "text": [
            "Mounted at /content/gdrive/\n"
          ],
          "name": "stdout"
        }
      ]
    },
    {
      "cell_type": "code",
      "metadata": {
        "id": "ktAXw0C6r5P_",
        "colab_type": "code",
        "colab": {}
      },
      "source": [
        "import numpy as np # linear algebra\n",
        "import pandas as pd # data processing, CSV file I/O (e.g. pd.read_csv)"
      ],
      "execution_count": 53,
      "outputs": []
    },
    {
      "cell_type": "code",
      "metadata": {
        "id": "WwThQA8ZsBqI",
        "colab_type": "code",
        "colab": {}
      },
      "source": [
        "from sklearn import preprocessing\n",
        "from tensorflow.python import keras\n",
        "from sklearn.impute import SimpleImputer\n",
        "import tensorflow as tf\n",
        "from tensorflow.python.keras.models import Sequential\n",
        "from tensorflow.python.keras.layers import Dense, Dropout"
      ],
      "execution_count": 54,
      "outputs": []
    },
    {
      "cell_type": "code",
      "metadata": {
        "id": "dwvZteWyW4SW",
        "colab_type": "code",
        "colab": {}
      },
      "source": [
        "!cp \"/content/gdrive/My Drive/Colab Notebooks/Projects/kaggle.json\" ."
      ],
      "execution_count": 55,
      "outputs": []
    },
    {
      "cell_type": "code",
      "metadata": {
        "id": "ah2YQCvvXGPe",
        "colab_type": "code",
        "colab": {}
      },
      "source": [
        "!mkdir -p ~/.kaggle"
      ],
      "execution_count": 56,
      "outputs": []
    },
    {
      "cell_type": "code",
      "metadata": {
        "id": "HaQgqhdZXGMI",
        "colab_type": "code",
        "colab": {}
      },
      "source": [
        "!cp kaggle.json ~/.kaggle/"
      ],
      "execution_count": 57,
      "outputs": []
    },
    {
      "cell_type": "code",
      "metadata": {
        "id": "_UgkUZ1wXpnf",
        "colab_type": "code",
        "colab": {}
      },
      "source": [
        "!chmod 600 ~/.kaggle/kaggle.json"
      ],
      "execution_count": 58,
      "outputs": []
    },
    {
      "cell_type": "code",
      "metadata": {
        "id": "BLImsD3LUspq",
        "colab_type": "code",
        "colab": {
          "base_uri": "https://localhost:8080/",
          "height": 85
        },
        "outputId": "4c26562a-e138-4284-976f-af0604c538b7"
      },
      "source": [
        "!kaggle competitions download -c titanic"
      ],
      "execution_count": 59,
      "outputs": [
        {
          "output_type": "stream",
          "text": [
            "Warning: Looks like you're using an outdated API Version, please consider updating (server 1.5.6 / client 1.5.4)\n",
            "train.csv: Skipping, found more recently modified local copy (use --force to force download)\n",
            "test.csv: Skipping, found more recently modified local copy (use --force to force download)\n",
            "gender_submission.csv: Skipping, found more recently modified local copy (use --force to force download)\n"
          ],
          "name": "stdout"
        }
      ]
    },
    {
      "cell_type": "code",
      "metadata": {
        "id": "CP-RDBV5X77f",
        "colab_type": "code",
        "colab": {}
      },
      "source": [
        "# Import train & test data \n",
        "test = pd.read_csv('/content/test.csv')\n",
        "train = pd.read_csv('/content/train.csv')"
      ],
      "execution_count": 60,
      "outputs": []
    },
    {
      "cell_type": "code",
      "metadata": {
        "id": "zVRbcjgDYbi6",
        "colab_type": "code",
        "colab": {
          "base_uri": "https://localhost:8080/",
          "height": 204
        },
        "outputId": "16090fdd-cb99-4d90-fb2b-1f9393f09769"
      },
      "source": [
        "# View the training data\n",
        "train.head(5)"
      ],
      "execution_count": 61,
      "outputs": [
        {
          "output_type": "execute_result",
          "data": {
            "text/html": [
              "<div>\n",
              "<style scoped>\n",
              "    .dataframe tbody tr th:only-of-type {\n",
              "        vertical-align: middle;\n",
              "    }\n",
              "\n",
              "    .dataframe tbody tr th {\n",
              "        vertical-align: top;\n",
              "    }\n",
              "\n",
              "    .dataframe thead th {\n",
              "        text-align: right;\n",
              "    }\n",
              "</style>\n",
              "<table border=\"1\" class=\"dataframe\">\n",
              "  <thead>\n",
              "    <tr style=\"text-align: right;\">\n",
              "      <th></th>\n",
              "      <th>PassengerId</th>\n",
              "      <th>Survived</th>\n",
              "      <th>Pclass</th>\n",
              "      <th>Name</th>\n",
              "      <th>Sex</th>\n",
              "      <th>Age</th>\n",
              "      <th>SibSp</th>\n",
              "      <th>Parch</th>\n",
              "      <th>Ticket</th>\n",
              "      <th>Fare</th>\n",
              "      <th>Cabin</th>\n",
              "      <th>Embarked</th>\n",
              "    </tr>\n",
              "  </thead>\n",
              "  <tbody>\n",
              "    <tr>\n",
              "      <th>0</th>\n",
              "      <td>1</td>\n",
              "      <td>0</td>\n",
              "      <td>3</td>\n",
              "      <td>Braund, Mr. Owen Harris</td>\n",
              "      <td>male</td>\n",
              "      <td>22.0</td>\n",
              "      <td>1</td>\n",
              "      <td>0</td>\n",
              "      <td>A/5 21171</td>\n",
              "      <td>7.2500</td>\n",
              "      <td>NaN</td>\n",
              "      <td>S</td>\n",
              "    </tr>\n",
              "    <tr>\n",
              "      <th>1</th>\n",
              "      <td>2</td>\n",
              "      <td>1</td>\n",
              "      <td>1</td>\n",
              "      <td>Cumings, Mrs. John Bradley (Florence Briggs Th...</td>\n",
              "      <td>female</td>\n",
              "      <td>38.0</td>\n",
              "      <td>1</td>\n",
              "      <td>0</td>\n",
              "      <td>PC 17599</td>\n",
              "      <td>71.2833</td>\n",
              "      <td>C85</td>\n",
              "      <td>C</td>\n",
              "    </tr>\n",
              "    <tr>\n",
              "      <th>2</th>\n",
              "      <td>3</td>\n",
              "      <td>1</td>\n",
              "      <td>3</td>\n",
              "      <td>Heikkinen, Miss. Laina</td>\n",
              "      <td>female</td>\n",
              "      <td>26.0</td>\n",
              "      <td>0</td>\n",
              "      <td>0</td>\n",
              "      <td>STON/O2. 3101282</td>\n",
              "      <td>7.9250</td>\n",
              "      <td>NaN</td>\n",
              "      <td>S</td>\n",
              "    </tr>\n",
              "    <tr>\n",
              "      <th>3</th>\n",
              "      <td>4</td>\n",
              "      <td>1</td>\n",
              "      <td>1</td>\n",
              "      <td>Futrelle, Mrs. Jacques Heath (Lily May Peel)</td>\n",
              "      <td>female</td>\n",
              "      <td>35.0</td>\n",
              "      <td>1</td>\n",
              "      <td>0</td>\n",
              "      <td>113803</td>\n",
              "      <td>53.1000</td>\n",
              "      <td>C123</td>\n",
              "      <td>S</td>\n",
              "    </tr>\n",
              "    <tr>\n",
              "      <th>4</th>\n",
              "      <td>5</td>\n",
              "      <td>0</td>\n",
              "      <td>3</td>\n",
              "      <td>Allen, Mr. William Henry</td>\n",
              "      <td>male</td>\n",
              "      <td>35.0</td>\n",
              "      <td>0</td>\n",
              "      <td>0</td>\n",
              "      <td>373450</td>\n",
              "      <td>8.0500</td>\n",
              "      <td>NaN</td>\n",
              "      <td>S</td>\n",
              "    </tr>\n",
              "  </tbody>\n",
              "</table>\n",
              "</div>"
            ],
            "text/plain": [
              "   PassengerId  Survived  Pclass  ...     Fare Cabin  Embarked\n",
              "0            1         0       3  ...   7.2500   NaN         S\n",
              "1            2         1       1  ...  71.2833   C85         C\n",
              "2            3         1       3  ...   7.9250   NaN         S\n",
              "3            4         1       1  ...  53.1000  C123         S\n",
              "4            5         0       3  ...   8.0500   NaN         S\n",
              "\n",
              "[5 rows x 12 columns]"
            ]
          },
          "metadata": {
            "tags": []
          },
          "execution_count": 61
        }
      ]
    },
    {
      "cell_type": "code",
      "metadata": {
        "id": "K4SbCJqqrp1Z",
        "colab_type": "code",
        "colab": {
          "base_uri": "https://localhost:8080/",
          "height": 204
        },
        "outputId": "a4d3bb9f-2404-41ca-93ea-343f556b5933"
      },
      "source": [
        "test.head(5)"
      ],
      "execution_count": 62,
      "outputs": [
        {
          "output_type": "execute_result",
          "data": {
            "text/html": [
              "<div>\n",
              "<style scoped>\n",
              "    .dataframe tbody tr th:only-of-type {\n",
              "        vertical-align: middle;\n",
              "    }\n",
              "\n",
              "    .dataframe tbody tr th {\n",
              "        vertical-align: top;\n",
              "    }\n",
              "\n",
              "    .dataframe thead th {\n",
              "        text-align: right;\n",
              "    }\n",
              "</style>\n",
              "<table border=\"1\" class=\"dataframe\">\n",
              "  <thead>\n",
              "    <tr style=\"text-align: right;\">\n",
              "      <th></th>\n",
              "      <th>PassengerId</th>\n",
              "      <th>Pclass</th>\n",
              "      <th>Name</th>\n",
              "      <th>Sex</th>\n",
              "      <th>Age</th>\n",
              "      <th>SibSp</th>\n",
              "      <th>Parch</th>\n",
              "      <th>Ticket</th>\n",
              "      <th>Fare</th>\n",
              "      <th>Cabin</th>\n",
              "      <th>Embarked</th>\n",
              "    </tr>\n",
              "  </thead>\n",
              "  <tbody>\n",
              "    <tr>\n",
              "      <th>0</th>\n",
              "      <td>892</td>\n",
              "      <td>3</td>\n",
              "      <td>Kelly, Mr. James</td>\n",
              "      <td>male</td>\n",
              "      <td>34.5</td>\n",
              "      <td>0</td>\n",
              "      <td>0</td>\n",
              "      <td>330911</td>\n",
              "      <td>7.8292</td>\n",
              "      <td>NaN</td>\n",
              "      <td>Q</td>\n",
              "    </tr>\n",
              "    <tr>\n",
              "      <th>1</th>\n",
              "      <td>893</td>\n",
              "      <td>3</td>\n",
              "      <td>Wilkes, Mrs. James (Ellen Needs)</td>\n",
              "      <td>female</td>\n",
              "      <td>47.0</td>\n",
              "      <td>1</td>\n",
              "      <td>0</td>\n",
              "      <td>363272</td>\n",
              "      <td>7.0000</td>\n",
              "      <td>NaN</td>\n",
              "      <td>S</td>\n",
              "    </tr>\n",
              "    <tr>\n",
              "      <th>2</th>\n",
              "      <td>894</td>\n",
              "      <td>2</td>\n",
              "      <td>Myles, Mr. Thomas Francis</td>\n",
              "      <td>male</td>\n",
              "      <td>62.0</td>\n",
              "      <td>0</td>\n",
              "      <td>0</td>\n",
              "      <td>240276</td>\n",
              "      <td>9.6875</td>\n",
              "      <td>NaN</td>\n",
              "      <td>Q</td>\n",
              "    </tr>\n",
              "    <tr>\n",
              "      <th>3</th>\n",
              "      <td>895</td>\n",
              "      <td>3</td>\n",
              "      <td>Wirz, Mr. Albert</td>\n",
              "      <td>male</td>\n",
              "      <td>27.0</td>\n",
              "      <td>0</td>\n",
              "      <td>0</td>\n",
              "      <td>315154</td>\n",
              "      <td>8.6625</td>\n",
              "      <td>NaN</td>\n",
              "      <td>S</td>\n",
              "    </tr>\n",
              "    <tr>\n",
              "      <th>4</th>\n",
              "      <td>896</td>\n",
              "      <td>3</td>\n",
              "      <td>Hirvonen, Mrs. Alexander (Helga E Lindqvist)</td>\n",
              "      <td>female</td>\n",
              "      <td>22.0</td>\n",
              "      <td>1</td>\n",
              "      <td>1</td>\n",
              "      <td>3101298</td>\n",
              "      <td>12.2875</td>\n",
              "      <td>NaN</td>\n",
              "      <td>S</td>\n",
              "    </tr>\n",
              "  </tbody>\n",
              "</table>\n",
              "</div>"
            ],
            "text/plain": [
              "   PassengerId  Pclass  ... Cabin Embarked\n",
              "0          892       3  ...   NaN        Q\n",
              "1          893       3  ...   NaN        S\n",
              "2          894       2  ...   NaN        Q\n",
              "3          895       3  ...   NaN        S\n",
              "4          896       3  ...   NaN        S\n",
              "\n",
              "[5 rows x 11 columns]"
            ]
          },
          "metadata": {
            "tags": []
          },
          "execution_count": 62
        }
      ]
    },
    {
      "cell_type": "code",
      "metadata": {
        "id": "iQdYVrv3sI3g",
        "colab_type": "code",
        "colab": {}
      },
      "source": [
        "encoder = preprocessing.LabelEncoder()"
      ],
      "execution_count": 63,
      "outputs": []
    },
    {
      "cell_type": "code",
      "metadata": {
        "id": "kxI0737Gudmw",
        "colab_type": "code",
        "colab": {}
      },
      "source": [
        "cat_features = [\"Sex\", \"Embarked\"]"
      ],
      "execution_count": 64,
      "outputs": []
    },
    {
      "cell_type": "code",
      "metadata": {
        "id": "qtgR_9VUuvPk",
        "colab_type": "code",
        "colab": {}
      },
      "source": [
        "train[\"Embarked\"] = train[\"Embarked\"].astype(str)"
      ],
      "execution_count": 65,
      "outputs": []
    },
    {
      "cell_type": "code",
      "metadata": {
        "id": "wtwTqOgFwWGw",
        "colab_type": "code",
        "colab": {}
      },
      "source": [
        "encoded_train = train[cat_features].apply(encoder.fit_transform)\n",
        "encoded_test = test[cat_features].apply(encoder.fit_transform)"
      ],
      "execution_count": 66,
      "outputs": []
    },
    {
      "cell_type": "code",
      "metadata": {
        "id": "q1zNjpxvvA4z",
        "colab_type": "code",
        "colab": {}
      },
      "source": [
        "num_features = [\"Survived\",\"Pclass\",\"Age\",\"SibSp\",\"Parch\",\"Fare\"]\n",
        "test_features= [\"Pclass\",\"Age\",\"SibSp\",\"Parch\",\"Fare\"]"
      ],
      "execution_count": 67,
      "outputs": []
    },
    {
      "cell_type": "code",
      "metadata": {
        "id": "-uUQEtfUvoAQ",
        "colab_type": "code",
        "colab": {}
      },
      "source": [
        "training_data = train[num_features].join(encoded_train)\n",
        "test_data = test[test_features].join(encoded_test)"
      ],
      "execution_count": 68,
      "outputs": []
    },
    {
      "cell_type": "code",
      "metadata": {
        "id": "HDWMRK3UwAaF",
        "colab_type": "code",
        "colab": {
          "base_uri": "https://localhost:8080/",
          "height": 204
        },
        "outputId": "84a95a13-103a-4886-d626-d0df36442b67"
      },
      "source": [
        "training_data.head()"
      ],
      "execution_count": 69,
      "outputs": [
        {
          "output_type": "execute_result",
          "data": {
            "text/html": [
              "<div>\n",
              "<style scoped>\n",
              "    .dataframe tbody tr th:only-of-type {\n",
              "        vertical-align: middle;\n",
              "    }\n",
              "\n",
              "    .dataframe tbody tr th {\n",
              "        vertical-align: top;\n",
              "    }\n",
              "\n",
              "    .dataframe thead th {\n",
              "        text-align: right;\n",
              "    }\n",
              "</style>\n",
              "<table border=\"1\" class=\"dataframe\">\n",
              "  <thead>\n",
              "    <tr style=\"text-align: right;\">\n",
              "      <th></th>\n",
              "      <th>Survived</th>\n",
              "      <th>Pclass</th>\n",
              "      <th>Age</th>\n",
              "      <th>SibSp</th>\n",
              "      <th>Parch</th>\n",
              "      <th>Fare</th>\n",
              "      <th>Sex</th>\n",
              "      <th>Embarked</th>\n",
              "    </tr>\n",
              "  </thead>\n",
              "  <tbody>\n",
              "    <tr>\n",
              "      <th>0</th>\n",
              "      <td>0</td>\n",
              "      <td>3</td>\n",
              "      <td>22.0</td>\n",
              "      <td>1</td>\n",
              "      <td>0</td>\n",
              "      <td>7.2500</td>\n",
              "      <td>1</td>\n",
              "      <td>2</td>\n",
              "    </tr>\n",
              "    <tr>\n",
              "      <th>1</th>\n",
              "      <td>1</td>\n",
              "      <td>1</td>\n",
              "      <td>38.0</td>\n",
              "      <td>1</td>\n",
              "      <td>0</td>\n",
              "      <td>71.2833</td>\n",
              "      <td>0</td>\n",
              "      <td>0</td>\n",
              "    </tr>\n",
              "    <tr>\n",
              "      <th>2</th>\n",
              "      <td>1</td>\n",
              "      <td>3</td>\n",
              "      <td>26.0</td>\n",
              "      <td>0</td>\n",
              "      <td>0</td>\n",
              "      <td>7.9250</td>\n",
              "      <td>0</td>\n",
              "      <td>2</td>\n",
              "    </tr>\n",
              "    <tr>\n",
              "      <th>3</th>\n",
              "      <td>1</td>\n",
              "      <td>1</td>\n",
              "      <td>35.0</td>\n",
              "      <td>1</td>\n",
              "      <td>0</td>\n",
              "      <td>53.1000</td>\n",
              "      <td>0</td>\n",
              "      <td>2</td>\n",
              "    </tr>\n",
              "    <tr>\n",
              "      <th>4</th>\n",
              "      <td>0</td>\n",
              "      <td>3</td>\n",
              "      <td>35.0</td>\n",
              "      <td>0</td>\n",
              "      <td>0</td>\n",
              "      <td>8.0500</td>\n",
              "      <td>1</td>\n",
              "      <td>2</td>\n",
              "    </tr>\n",
              "  </tbody>\n",
              "</table>\n",
              "</div>"
            ],
            "text/plain": [
              "   Survived  Pclass   Age  SibSp  Parch     Fare  Sex  Embarked\n",
              "0         0       3  22.0      1      0   7.2500    1         2\n",
              "1         1       1  38.0      1      0  71.2833    0         0\n",
              "2         1       3  26.0      0      0   7.9250    0         2\n",
              "3         1       1  35.0      1      0  53.1000    0         2\n",
              "4         0       3  35.0      0      0   8.0500    1         2"
            ]
          },
          "metadata": {
            "tags": []
          },
          "execution_count": 69
        }
      ]
    },
    {
      "cell_type": "code",
      "metadata": {
        "id": "GSkd6E1Wwmz9",
        "colab_type": "code",
        "colab": {
          "base_uri": "https://localhost:8080/",
          "height": 204
        },
        "outputId": "b2fba5f8-68be-4ae2-9dd1-23a7a86a9ace"
      },
      "source": [
        "test_data.head()"
      ],
      "execution_count": 70,
      "outputs": [
        {
          "output_type": "execute_result",
          "data": {
            "text/html": [
              "<div>\n",
              "<style scoped>\n",
              "    .dataframe tbody tr th:only-of-type {\n",
              "        vertical-align: middle;\n",
              "    }\n",
              "\n",
              "    .dataframe tbody tr th {\n",
              "        vertical-align: top;\n",
              "    }\n",
              "\n",
              "    .dataframe thead th {\n",
              "        text-align: right;\n",
              "    }\n",
              "</style>\n",
              "<table border=\"1\" class=\"dataframe\">\n",
              "  <thead>\n",
              "    <tr style=\"text-align: right;\">\n",
              "      <th></th>\n",
              "      <th>Pclass</th>\n",
              "      <th>Age</th>\n",
              "      <th>SibSp</th>\n",
              "      <th>Parch</th>\n",
              "      <th>Fare</th>\n",
              "      <th>Sex</th>\n",
              "      <th>Embarked</th>\n",
              "    </tr>\n",
              "  </thead>\n",
              "  <tbody>\n",
              "    <tr>\n",
              "      <th>0</th>\n",
              "      <td>3</td>\n",
              "      <td>34.5</td>\n",
              "      <td>0</td>\n",
              "      <td>0</td>\n",
              "      <td>7.8292</td>\n",
              "      <td>1</td>\n",
              "      <td>1</td>\n",
              "    </tr>\n",
              "    <tr>\n",
              "      <th>1</th>\n",
              "      <td>3</td>\n",
              "      <td>47.0</td>\n",
              "      <td>1</td>\n",
              "      <td>0</td>\n",
              "      <td>7.0000</td>\n",
              "      <td>0</td>\n",
              "      <td>2</td>\n",
              "    </tr>\n",
              "    <tr>\n",
              "      <th>2</th>\n",
              "      <td>2</td>\n",
              "      <td>62.0</td>\n",
              "      <td>0</td>\n",
              "      <td>0</td>\n",
              "      <td>9.6875</td>\n",
              "      <td>1</td>\n",
              "      <td>1</td>\n",
              "    </tr>\n",
              "    <tr>\n",
              "      <th>3</th>\n",
              "      <td>3</td>\n",
              "      <td>27.0</td>\n",
              "      <td>0</td>\n",
              "      <td>0</td>\n",
              "      <td>8.6625</td>\n",
              "      <td>1</td>\n",
              "      <td>2</td>\n",
              "    </tr>\n",
              "    <tr>\n",
              "      <th>4</th>\n",
              "      <td>3</td>\n",
              "      <td>22.0</td>\n",
              "      <td>1</td>\n",
              "      <td>1</td>\n",
              "      <td>12.2875</td>\n",
              "      <td>0</td>\n",
              "      <td>2</td>\n",
              "    </tr>\n",
              "  </tbody>\n",
              "</table>\n",
              "</div>"
            ],
            "text/plain": [
              "   Pclass   Age  SibSp  Parch     Fare  Sex  Embarked\n",
              "0       3  34.5      0      0   7.8292    1         1\n",
              "1       3  47.0      1      0   7.0000    0         2\n",
              "2       2  62.0      0      0   9.6875    1         1\n",
              "3       3  27.0      0      0   8.6625    1         2\n",
              "4       3  22.0      1      1  12.2875    0         2"
            ]
          },
          "metadata": {
            "tags": []
          },
          "execution_count": 70
        }
      ]
    },
    {
      "cell_type": "code",
      "metadata": {
        "id": "KFym7RgYw-Nb",
        "colab_type": "code",
        "colab": {
          "base_uri": "https://localhost:8080/",
          "height": 170
        },
        "outputId": "d65e6a9b-885c-4276-c626-b2940f924d25"
      },
      "source": [
        "training_data.isnull().sum()"
      ],
      "execution_count": 71,
      "outputs": [
        {
          "output_type": "execute_result",
          "data": {
            "text/plain": [
              "Survived      0\n",
              "Pclass        0\n",
              "Age         177\n",
              "SibSp         0\n",
              "Parch         0\n",
              "Fare          0\n",
              "Sex           0\n",
              "Embarked      0\n",
              "dtype: int64"
            ]
          },
          "metadata": {
            "tags": []
          },
          "execution_count": 71
        }
      ]
    },
    {
      "cell_type": "code",
      "metadata": {
        "id": "wRIE5efZxV9C",
        "colab_type": "code",
        "colab": {
          "base_uri": "https://localhost:8080/",
          "height": 153
        },
        "outputId": "d5b1ca72-14be-47f1-9be0-de13cc641ea6"
      },
      "source": [
        "test_data.isnull().sum()"
      ],
      "execution_count": 72,
      "outputs": [
        {
          "output_type": "execute_result",
          "data": {
            "text/plain": [
              "Pclass       0\n",
              "Age         86\n",
              "SibSp        0\n",
              "Parch        0\n",
              "Fare         1\n",
              "Sex          0\n",
              "Embarked     0\n",
              "dtype: int64"
            ]
          },
          "metadata": {
            "tags": []
          },
          "execution_count": 72
        }
      ]
    },
    {
      "cell_type": "code",
      "metadata": {
        "id": "aZCkoKtyx4JX",
        "colab_type": "code",
        "colab": {}
      },
      "source": [
        "my_imputer = SimpleImputer()\n",
        "imputed_train = pd.DataFrame(my_imputer.fit_transform(training_data))\n",
        "imputed_test_data = pd.DataFrame(my_imputer.fit_transform(test_data))"
      ],
      "execution_count": 73,
      "outputs": []
    },
    {
      "cell_type": "code",
      "metadata": {
        "id": "PmsBL82NzE_q",
        "colab_type": "code",
        "colab": {
          "base_uri": "https://localhost:8080/",
          "height": 204
        },
        "outputId": "6af4d848-3b97-4640-8511-2f8c60dff559"
      },
      "source": [
        "imputed_train.head()"
      ],
      "execution_count": 74,
      "outputs": [
        {
          "output_type": "execute_result",
          "data": {
            "text/html": [
              "<div>\n",
              "<style scoped>\n",
              "    .dataframe tbody tr th:only-of-type {\n",
              "        vertical-align: middle;\n",
              "    }\n",
              "\n",
              "    .dataframe tbody tr th {\n",
              "        vertical-align: top;\n",
              "    }\n",
              "\n",
              "    .dataframe thead th {\n",
              "        text-align: right;\n",
              "    }\n",
              "</style>\n",
              "<table border=\"1\" class=\"dataframe\">\n",
              "  <thead>\n",
              "    <tr style=\"text-align: right;\">\n",
              "      <th></th>\n",
              "      <th>0</th>\n",
              "      <th>1</th>\n",
              "      <th>2</th>\n",
              "      <th>3</th>\n",
              "      <th>4</th>\n",
              "      <th>5</th>\n",
              "      <th>6</th>\n",
              "      <th>7</th>\n",
              "    </tr>\n",
              "  </thead>\n",
              "  <tbody>\n",
              "    <tr>\n",
              "      <th>0</th>\n",
              "      <td>0.0</td>\n",
              "      <td>3.0</td>\n",
              "      <td>22.0</td>\n",
              "      <td>1.0</td>\n",
              "      <td>0.0</td>\n",
              "      <td>7.2500</td>\n",
              "      <td>1.0</td>\n",
              "      <td>2.0</td>\n",
              "    </tr>\n",
              "    <tr>\n",
              "      <th>1</th>\n",
              "      <td>1.0</td>\n",
              "      <td>1.0</td>\n",
              "      <td>38.0</td>\n",
              "      <td>1.0</td>\n",
              "      <td>0.0</td>\n",
              "      <td>71.2833</td>\n",
              "      <td>0.0</td>\n",
              "      <td>0.0</td>\n",
              "    </tr>\n",
              "    <tr>\n",
              "      <th>2</th>\n",
              "      <td>1.0</td>\n",
              "      <td>3.0</td>\n",
              "      <td>26.0</td>\n",
              "      <td>0.0</td>\n",
              "      <td>0.0</td>\n",
              "      <td>7.9250</td>\n",
              "      <td>0.0</td>\n",
              "      <td>2.0</td>\n",
              "    </tr>\n",
              "    <tr>\n",
              "      <th>3</th>\n",
              "      <td>1.0</td>\n",
              "      <td>1.0</td>\n",
              "      <td>35.0</td>\n",
              "      <td>1.0</td>\n",
              "      <td>0.0</td>\n",
              "      <td>53.1000</td>\n",
              "      <td>0.0</td>\n",
              "      <td>2.0</td>\n",
              "    </tr>\n",
              "    <tr>\n",
              "      <th>4</th>\n",
              "      <td>0.0</td>\n",
              "      <td>3.0</td>\n",
              "      <td>35.0</td>\n",
              "      <td>0.0</td>\n",
              "      <td>0.0</td>\n",
              "      <td>8.0500</td>\n",
              "      <td>1.0</td>\n",
              "      <td>2.0</td>\n",
              "    </tr>\n",
              "  </tbody>\n",
              "</table>\n",
              "</div>"
            ],
            "text/plain": [
              "     0    1     2    3    4        5    6    7\n",
              "0  0.0  3.0  22.0  1.0  0.0   7.2500  1.0  2.0\n",
              "1  1.0  1.0  38.0  1.0  0.0  71.2833  0.0  0.0\n",
              "2  1.0  3.0  26.0  0.0  0.0   7.9250  0.0  2.0\n",
              "3  1.0  1.0  35.0  1.0  0.0  53.1000  0.0  2.0\n",
              "4  0.0  3.0  35.0  0.0  0.0   8.0500  1.0  2.0"
            ]
          },
          "metadata": {
            "tags": []
          },
          "execution_count": 74
        }
      ]
    },
    {
      "cell_type": "code",
      "metadata": {
        "id": "ut6kkThyzMkN",
        "colab_type": "code",
        "colab": {}
      },
      "source": [
        "imputed_train.columns = training_data.columns\n",
        "imputed_test_data.columns = test_data.columns"
      ],
      "execution_count": 75,
      "outputs": []
    },
    {
      "cell_type": "code",
      "metadata": {
        "id": "0UKYsuVWzhFK",
        "colab_type": "code",
        "colab": {
          "base_uri": "https://localhost:8080/",
          "height": 204
        },
        "outputId": "4d7f78c9-88a4-4791-ef65-e70c10854e81"
      },
      "source": [
        "imputed_train.head()"
      ],
      "execution_count": 76,
      "outputs": [
        {
          "output_type": "execute_result",
          "data": {
            "text/html": [
              "<div>\n",
              "<style scoped>\n",
              "    .dataframe tbody tr th:only-of-type {\n",
              "        vertical-align: middle;\n",
              "    }\n",
              "\n",
              "    .dataframe tbody tr th {\n",
              "        vertical-align: top;\n",
              "    }\n",
              "\n",
              "    .dataframe thead th {\n",
              "        text-align: right;\n",
              "    }\n",
              "</style>\n",
              "<table border=\"1\" class=\"dataframe\">\n",
              "  <thead>\n",
              "    <tr style=\"text-align: right;\">\n",
              "      <th></th>\n",
              "      <th>Survived</th>\n",
              "      <th>Pclass</th>\n",
              "      <th>Age</th>\n",
              "      <th>SibSp</th>\n",
              "      <th>Parch</th>\n",
              "      <th>Fare</th>\n",
              "      <th>Sex</th>\n",
              "      <th>Embarked</th>\n",
              "    </tr>\n",
              "  </thead>\n",
              "  <tbody>\n",
              "    <tr>\n",
              "      <th>0</th>\n",
              "      <td>0.0</td>\n",
              "      <td>3.0</td>\n",
              "      <td>22.0</td>\n",
              "      <td>1.0</td>\n",
              "      <td>0.0</td>\n",
              "      <td>7.2500</td>\n",
              "      <td>1.0</td>\n",
              "      <td>2.0</td>\n",
              "    </tr>\n",
              "    <tr>\n",
              "      <th>1</th>\n",
              "      <td>1.0</td>\n",
              "      <td>1.0</td>\n",
              "      <td>38.0</td>\n",
              "      <td>1.0</td>\n",
              "      <td>0.0</td>\n",
              "      <td>71.2833</td>\n",
              "      <td>0.0</td>\n",
              "      <td>0.0</td>\n",
              "    </tr>\n",
              "    <tr>\n",
              "      <th>2</th>\n",
              "      <td>1.0</td>\n",
              "      <td>3.0</td>\n",
              "      <td>26.0</td>\n",
              "      <td>0.0</td>\n",
              "      <td>0.0</td>\n",
              "      <td>7.9250</td>\n",
              "      <td>0.0</td>\n",
              "      <td>2.0</td>\n",
              "    </tr>\n",
              "    <tr>\n",
              "      <th>3</th>\n",
              "      <td>1.0</td>\n",
              "      <td>1.0</td>\n",
              "      <td>35.0</td>\n",
              "      <td>1.0</td>\n",
              "      <td>0.0</td>\n",
              "      <td>53.1000</td>\n",
              "      <td>0.0</td>\n",
              "      <td>2.0</td>\n",
              "    </tr>\n",
              "    <tr>\n",
              "      <th>4</th>\n",
              "      <td>0.0</td>\n",
              "      <td>3.0</td>\n",
              "      <td>35.0</td>\n",
              "      <td>0.0</td>\n",
              "      <td>0.0</td>\n",
              "      <td>8.0500</td>\n",
              "      <td>1.0</td>\n",
              "      <td>2.0</td>\n",
              "    </tr>\n",
              "  </tbody>\n",
              "</table>\n",
              "</div>"
            ],
            "text/plain": [
              "   Survived  Pclass   Age  SibSp  Parch     Fare  Sex  Embarked\n",
              "0       0.0     3.0  22.0    1.0    0.0   7.2500  1.0       2.0\n",
              "1       1.0     1.0  38.0    1.0    0.0  71.2833  0.0       0.0\n",
              "2       1.0     3.0  26.0    0.0    0.0   7.9250  0.0       2.0\n",
              "3       1.0     1.0  35.0    1.0    0.0  53.1000  0.0       2.0\n",
              "4       0.0     3.0  35.0    0.0    0.0   8.0500  1.0       2.0"
            ]
          },
          "metadata": {
            "tags": []
          },
          "execution_count": 76
        }
      ]
    },
    {
      "cell_type": "code",
      "metadata": {
        "id": "Rq94edU80WhI",
        "colab_type": "code",
        "colab": {}
      },
      "source": [
        "X = imputed_train.drop(\"Survived\", axis = 1)\n",
        "y = imputed_train[\"Survived\"]"
      ],
      "execution_count": 77,
      "outputs": []
    },
    {
      "cell_type": "code",
      "metadata": {
        "id": "sfC2xDmb0zBZ",
        "colab_type": "code",
        "colab": {}
      },
      "source": [
        "tf.random.set_seed(42)"
      ],
      "execution_count": 78,
      "outputs": []
    },
    {
      "cell_type": "code",
      "metadata": {
        "id": "41uQ60Hy1tjt",
        "colab_type": "code",
        "colab": {}
      },
      "source": [
        "model = Sequential()"
      ],
      "execution_count": 79,
      "outputs": []
    },
    {
      "cell_type": "code",
      "metadata": {
        "id": "ma9XE0so1-nm",
        "colab_type": "code",
        "colab": {}
      },
      "source": [
        "model.add(Dense(7, activation = \"relu\", input_shape = (7,)))\n",
        "model.add(Dropout(0.2))"
      ],
      "execution_count": 80,
      "outputs": []
    },
    {
      "cell_type": "code",
      "metadata": {
        "id": "KLtigRvM3RzD",
        "colab_type": "code",
        "colab": {}
      },
      "source": [
        "model.add(Dense(50, activation = \"relu\"))\n",
        "model.add(Dropout(0.2))\n",
        "model.add(Dense(50, activation = \"relu\"))"
      ],
      "execution_count": 81,
      "outputs": []
    },
    {
      "cell_type": "code",
      "metadata": {
        "id": "VfEFDTXa3sHD",
        "colab_type": "code",
        "colab": {}
      },
      "source": [
        "model.add(Dense(2, activation = \"softmax\"))"
      ],
      "execution_count": 82,
      "outputs": []
    },
    {
      "cell_type": "code",
      "metadata": {
        "id": "rVbl9qU739mw",
        "colab_type": "code",
        "colab": {}
      },
      "source": [
        "model.compile(loss=keras.losses.sparse_categorical_crossentropy, optimizer = \"adam\", metrics = ['accuracy'])"
      ],
      "execution_count": 83,
      "outputs": []
    },
    {
      "cell_type": "code",
      "metadata": {
        "id": "FjeaADdp4U4A",
        "colab_type": "code",
        "colab": {
          "base_uri": "https://localhost:8080/",
          "height": 34
        },
        "outputId": "2c2576f8-3d3a-434a-c323-36df2a3eb7b4"
      },
      "source": [
        "model.fit(X, y,\n",
        "          batch_size=1,\n",
        "          epochs=700,\n",
        "          validation_split = 0.2,\n",
        "          verbose = 0)"
      ],
      "execution_count": 84,
      "outputs": [
        {
          "output_type": "execute_result",
          "data": {
            "text/plain": [
              "<tensorflow.python.keras.callbacks.History at 0x7f4e0fa3a358>"
            ]
          },
          "metadata": {
            "tags": []
          },
          "execution_count": 84
        }
      ]
    },
    {
      "cell_type": "code",
      "metadata": {
        "id": "hWlQp8jM4r9r",
        "colab_type": "code",
        "colab": {
          "base_uri": "https://localhost:8080/",
          "height": 1000
        },
        "outputId": "346cc39c-6c74-4262-f481-1789ea89b0c9"
      },
      "source": [
        "preds = model.predict(imputed_test_data)\n",
        "print(preds)"
      ],
      "execution_count": 86,
      "outputs": [
        {
          "output_type": "stream",
          "text": [
            "[[7.43901551e-01 2.56098479e-01]\n",
            " [3.42808813e-01 6.57191217e-01]\n",
            " [6.95310831e-01 3.04689199e-01]\n",
            " [7.45227814e-01 2.54772156e-01]\n",
            " [1.89237937e-01 8.10762048e-01]\n",
            " [7.32963026e-01 2.67037004e-01]\n",
            " [8.56571421e-02 9.14342940e-01]\n",
            " [6.82197452e-01 3.17802578e-01]\n",
            " [7.96694309e-02 9.20330584e-01]\n",
            " [7.56297410e-01 2.43702605e-01]\n",
            " [7.48401225e-01 2.51598716e-01]\n",
            " [6.05851710e-01 3.94148260e-01]\n",
            " [7.96694309e-02 9.20330584e-01]\n",
            " [7.12539792e-01 2.87460208e-01]\n",
            " [7.96694309e-02 9.20330584e-01]\n",
            " [7.96694309e-02 9.20330584e-01]\n",
            " [6.66334808e-01 3.33665222e-01]\n",
            " [7.22611308e-01 2.77388692e-01]\n",
            " [1.70463488e-01 8.29536498e-01]\n",
            " [1.06451645e-01 8.93548369e-01]\n",
            " [5.67242742e-01 4.32757288e-01]\n",
            " [4.64437753e-02 9.53556240e-01]\n",
            " [7.96694309e-02 9.20330584e-01]\n",
            " [3.50063980e-01 6.49935961e-01]\n",
            " [7.96694309e-02 9.20330584e-01]\n",
            " [7.74009347e-01 2.25990653e-01]\n",
            " [7.96694309e-02 9.20330584e-01]\n",
            " [7.24064171e-01 2.75935799e-01]\n",
            " [5.70610285e-01 4.29389745e-01]\n",
            " [7.48722196e-01 2.51277775e-01]\n",
            " [6.99482024e-01 3.00518036e-01]\n",
            " [6.82624936e-01 3.17375034e-01]\n",
            " [3.35500598e-01 6.64499342e-01]\n",
            " [3.17486167e-01 6.82513833e-01]\n",
            " [4.22725081e-01 5.77274978e-01]\n",
            " [7.20178425e-01 2.79821575e-01]\n",
            " [1.20268591e-01 8.79731357e-01]\n",
            " [8.53437036e-02 9.14656281e-01]\n",
            " [7.43188798e-01 2.56811291e-01]\n",
            " [7.36958981e-01 2.63040990e-01]\n",
            " [7.45708406e-01 2.54291654e-01]\n",
            " [5.13513684e-01 4.86486316e-01]\n",
            " [7.58061409e-01 2.41938621e-01]\n",
            " [7.96694309e-02 9.20330584e-01]\n",
            " [7.96694309e-02 9.20330584e-01]\n",
            " [7.43558943e-01 2.56441057e-01]\n",
            " [4.87579644e-01 5.12420416e-01]\n",
            " [7.40002930e-01 2.59997070e-01]\n",
            " [7.96694309e-02 9.20330584e-01]\n",
            " [3.02648038e-01 6.97351933e-01]\n",
            " [4.91581023e-01 5.08418918e-01]\n",
            " [6.52578294e-01 3.47421765e-01]\n",
            " [7.96694309e-02 9.20330584e-01]\n",
            " [7.96694309e-02 9.20330584e-01]\n",
            " [6.55014455e-01 3.44985545e-01]\n",
            " [7.64050543e-01 2.35949457e-01]\n",
            " [7.52685070e-01 2.47314915e-01]\n",
            " [7.43623495e-01 2.56376445e-01]\n",
            " [7.56509900e-01 2.43490055e-01]\n",
            " [7.96694309e-02 9.20330584e-01]\n",
            " [7.36113608e-01 2.63886362e-01]\n",
            " [6.72490537e-01 3.27509403e-01]\n",
            " [7.37087429e-01 2.62912512e-01]\n",
            " [7.96694309e-02 9.20330584e-01]\n",
            " [1.22311592e-01 8.77688408e-01]\n",
            " [7.96694309e-02 9.20330584e-01]\n",
            " [7.96694309e-02 9.20330584e-01]\n",
            " [5.87757528e-01 4.12242502e-01]\n",
            " [4.07504886e-01 5.92495143e-01]\n",
            " [7.96694309e-02 9.20330584e-01]\n",
            " [7.96694309e-02 9.20330584e-01]\n",
            " [7.39856958e-01 2.60143012e-01]\n",
            " [1.15007870e-01 8.84992063e-01]\n",
            " [3.94465297e-01 6.05534732e-01]\n",
            " [7.96694309e-02 9.20330584e-01]\n",
            " [9.90825817e-02 9.00917411e-01]\n",
            " [7.48365521e-01 2.51634449e-01]\n",
            " [7.96694309e-02 9.20330584e-01]\n",
            " [6.70491099e-01 3.29508871e-01]\n",
            " [7.96694309e-02 9.20330584e-01]\n",
            " [7.16007687e-03 9.92839932e-01]\n",
            " [5.02326429e-01 4.97673541e-01]\n",
            " [6.22686446e-01 3.77313465e-01]\n",
            " [7.48401225e-01 2.51598716e-01]\n",
            " [6.63035750e-01 3.36964220e-01]\n",
            " [7.40211368e-01 2.59788692e-01]\n",
            " [7.96694309e-02 9.20330584e-01]\n",
            " [7.96694309e-02 9.20330584e-01]\n",
            " [8.63497630e-02 9.13650215e-01]\n",
            " [7.70886987e-02 9.22911227e-01]\n",
            " [1.26100048e-01 8.73899877e-01]\n",
            " [7.48429358e-01 2.51570672e-01]\n",
            " [7.96694309e-02 9.20330584e-01]\n",
            " [7.48365521e-01 2.51634449e-01]\n",
            " [3.77280861e-01 6.22719169e-01]\n",
            " [7.43589222e-01 2.56410748e-01]\n",
            " [7.96694309e-02 9.20330584e-01]\n",
            " [7.47232974e-01 2.52766967e-01]\n",
            " [8.31116214e-02 9.16888356e-01]\n",
            " [7.50843227e-01 2.49156803e-01]\n",
            " [7.96694309e-02 9.20330584e-01]\n",
            " [6.75575852e-01 3.24424118e-01]\n",
            " [7.40002930e-01 2.59997070e-01]\n",
            " [7.44515896e-01 2.55484164e-01]\n",
            " [7.96694309e-02 9.20330584e-01]\n",
            " [7.42896795e-01 2.57103175e-01]\n",
            " [7.31258631e-01 2.68741339e-01]\n",
            " [7.40002930e-01 2.59997070e-01]\n",
            " [7.48211801e-01 2.51788229e-01]\n",
            " [6.60573483e-01 3.39426517e-01]\n",
            " [6.63396418e-01 3.36603522e-01]\n",
            " [8.63284022e-02 9.13671613e-01]\n",
            " [7.96694309e-02 9.20330584e-01]\n",
            " [7.96694309e-02 9.20330584e-01]\n",
            " [7.96694309e-02 9.20330584e-01]\n",
            " [7.28627205e-01 2.71372795e-01]\n",
            " [7.31707036e-01 2.68292934e-01]\n",
            " [7.96694309e-02 9.20330584e-01]\n",
            " [3.68773222e-01 6.31226718e-01]\n",
            " [7.96694309e-02 9.20330584e-01]\n",
            " [7.96694309e-02 9.20330584e-01]\n",
            " [7.50190377e-01 2.49809638e-01]\n",
            " [7.96694309e-02 9.20330584e-01]\n",
            " [7.46475160e-01 2.53524840e-01]\n",
            " [7.40002930e-01 2.59997070e-01]\n",
            " [9.21721831e-02 9.07827854e-01]\n",
            " [7.40811050e-01 2.59188920e-01]\n",
            " [1.81847110e-01 8.18152845e-01]\n",
            " [6.83193386e-01 3.16806555e-01]\n",
            " [7.42605507e-01 2.57394463e-01]\n",
            " [7.49936700e-01 2.50063300e-01]\n",
            " [5.36692500e-01 4.63307559e-01]\n",
            " [3.40923190e-01 6.59076810e-01]\n",
            " [7.42106259e-01 2.57893741e-01]\n",
            " [7.59822011e-01 2.40178019e-01]\n",
            " [7.42651701e-01 2.57348329e-01]\n",
            " [7.27915347e-01 2.72084653e-01]\n",
            " [6.66325271e-01 3.33674729e-01]\n",
            " [9.22054946e-02 9.07794535e-01]\n",
            " [7.98385978e-01 2.01614067e-01]\n",
            " [4.16583657e-01 5.83416402e-01]\n",
            " [7.96694309e-02 9.20330584e-01]\n",
            " [4.40306008e-01 5.59694052e-01]\n",
            " [6.65324509e-01 3.34675491e-01]\n",
            " [5.82208514e-01 4.17791456e-01]\n",
            " [7.75930583e-01 2.24069446e-01]\n",
            " [4.75378364e-01 5.24621665e-01]\n",
            " [7.40750968e-01 2.59249002e-01]\n",
            " [5.13513684e-01 4.86486316e-01]\n",
            " [6.87174976e-01 3.12825054e-01]\n",
            " [7.96694309e-02 9.20330584e-01]\n",
            " [7.31354177e-01 2.68645853e-01]\n",
            " [7.68921971e-01 2.31078044e-01]\n",
            " [3.05810094e-01 6.94189966e-01]\n",
            " [7.80735791e-01 2.19264194e-01]\n",
            " [7.42723286e-01 2.57276744e-01]\n",
            " [7.96694309e-02 9.20330584e-01]\n",
            " [9.23761129e-02 9.07623947e-01]\n",
            " [5.82208574e-01 4.17791396e-01]\n",
            " [1.96241707e-01 8.03758264e-01]\n",
            " [8.63619968e-02 9.13638055e-01]\n",
            " [1.77424382e-02 9.82257545e-01]\n",
            " [7.96694309e-02 9.20330584e-01]\n",
            " [7.48609066e-01 2.51390904e-01]\n",
            " [6.82144880e-01 3.17855060e-01]\n",
            " [2.08110645e-01 7.91889310e-01]\n",
            " [4.74015683e-01 5.25984347e-01]\n",
            " [7.65520930e-01 2.34479114e-01]\n",
            " [7.96694309e-02 9.20330584e-01]\n",
            " [8.80771503e-02 9.11922872e-01]\n",
            " [7.48481512e-01 2.51518458e-01]\n",
            " [7.28394270e-01 2.71605670e-01]\n",
            " [7.50475764e-01 2.49524191e-01]\n",
            " [7.31515527e-01 2.68484503e-01]\n",
            " [7.95180380e-01 2.04819664e-01]\n",
            " [7.96694309e-02 9.20330584e-01]\n",
            " [7.96694309e-02 9.20330584e-01]\n",
            " [5.67287564e-01 4.32712406e-01]\n",
            " [7.96694309e-02 9.20330584e-01]\n",
            " [7.96694309e-02 9.20330584e-01]\n",
            " [6.70491099e-01 3.29508871e-01]\n",
            " [4.72882837e-01 5.27117193e-01]\n",
            " [7.96694309e-02 9.20330584e-01]\n",
            " [7.40002930e-01 2.59997070e-01]\n",
            " [7.96694309e-02 9.20330584e-01]\n",
            " [6.80291176e-01 3.19708824e-01]\n",
            " [7.96694309e-02 9.20330584e-01]\n",
            " [7.56385446e-01 2.43614569e-01]\n",
            " [6.37771308e-01 3.62228692e-01]\n",
            " [6.81094587e-01 3.18905413e-01]\n",
            " [6.82956815e-01 3.17043245e-01]\n",
            " [5.14342010e-01 4.85657960e-01]\n",
            " [7.47186780e-01 2.52813220e-01]\n",
            " [6.93587720e-01 3.06412309e-01]\n",
            " [7.96694309e-02 9.20330584e-01]\n",
            " [7.50888348e-01 2.49111623e-01]\n",
            " [7.96694309e-02 9.20330584e-01]\n",
            " [7.96694309e-02 9.20330584e-01]\n",
            " [6.64517879e-01 3.35482121e-01]\n",
            " [1.20199762e-01 8.79800200e-01]\n",
            " [8.08443949e-02 9.19155538e-01]\n",
            " [3.44056502e-07 9.99999642e-01]\n",
            " [2.77286738e-01 7.22713292e-01]\n",
            " [7.96694309e-02 9.20330584e-01]\n",
            " [6.66047573e-01 3.33952427e-01]\n",
            " [4.07415330e-01 5.92584610e-01]\n",
            " [1.02700695e-01 8.97299290e-01]\n",
            " [6.65283084e-01 3.34716827e-01]\n",
            " [7.96694309e-02 9.20330584e-01]\n",
            " [7.43565798e-01 2.56434232e-01]\n",
            " [7.46577144e-01 2.53422827e-01]\n",
            " [7.48597443e-01 2.51402497e-01]\n",
            " [6.47438169e-01 3.52561802e-01]\n",
            " [7.96694309e-02 9.20330584e-01]\n",
            " [5.74392200e-01 4.25607800e-01]\n",
            " [5.58645904e-01 4.41354126e-01]\n",
            " [8.62552822e-02 9.13744748e-01]\n",
            " [5.75921535e-01 4.24078435e-01]\n",
            " [7.96694309e-02 9.20330584e-01]\n",
            " [7.48365521e-01 2.51634449e-01]\n",
            " [7.96694309e-02 9.20330584e-01]\n",
            " [7.39820421e-01 2.60179579e-01]\n",
            " [7.96694309e-02 9.20330584e-01]\n",
            " [7.39880741e-01 2.60119319e-01]\n",
            " [7.96694309e-02 9.20330584e-01]\n",
            " [1.03799649e-01 8.96200299e-01]\n",
            " [7.41739333e-01 2.58260667e-01]\n",
            " [8.63497630e-02 9.13650215e-01]\n",
            " [7.55973160e-01 2.44026855e-01]\n",
            " [6.76874876e-01 3.23125064e-01]\n",
            " [6.46782398e-01 3.53217602e-01]\n",
            " [7.96694309e-02 9.20330584e-01]\n",
            " [7.50371456e-01 2.49628514e-01]\n",
            " [7.39972234e-01 2.60027707e-01]\n",
            " [4.55114841e-01 5.44885159e-01]\n",
            " [7.38934278e-01 2.61065781e-01]\n",
            " [5.95852077e-01 4.04147893e-01]\n",
            " [7.21640170e-01 2.78359860e-01]\n",
            " [7.96694309e-02 9.20330584e-01]\n",
            " [7.96694309e-02 9.20330584e-01]\n",
            " [7.96694309e-02 9.20330584e-01]\n",
            " [7.96694309e-02 9.20330584e-01]\n",
            " [4.43079203e-01 5.56920826e-01]\n",
            " [7.48403251e-01 2.51596808e-01]\n",
            " [7.68952489e-01 2.31047511e-01]\n",
            " [6.03017926e-01 3.96982014e-01]\n",
            " [7.96694309e-02 9.20330584e-01]\n",
            " [6.97836220e-01 3.02163839e-01]\n",
            " [7.96694309e-02 9.20330584e-01]\n",
            " [8.69955346e-02 9.13004458e-01]\n",
            " [7.96694309e-02 9.20330584e-01]\n",
            " [7.38917410e-01 2.61082560e-01]\n",
            " [3.00891370e-01 6.99108660e-01]\n",
            " [7.42305160e-01 2.57694870e-01]\n",
            " [7.50055432e-01 2.49944568e-01]\n",
            " [7.48481512e-01 2.51518458e-01]\n",
            " [7.40002930e-01 2.59997070e-01]\n",
            " [7.46288598e-01 2.53711402e-01]\n",
            " [7.96694309e-02 9.20330584e-01]\n",
            " [7.39885628e-01 2.60114342e-01]\n",
            " [7.61728227e-01 2.38271803e-01]\n",
            " [7.39866853e-01 2.60133147e-01]\n",
            " [7.96694309e-02 9.20330584e-01]\n",
            " [7.96694309e-02 9.20330584e-01]\n",
            " [6.55364275e-01 3.44635755e-01]\n",
            " [7.48401225e-01 2.51598716e-01]\n",
            " [5.53337097e-01 4.46662903e-01]\n",
            " [7.48481512e-01 2.51518458e-01]\n",
            " [1.20268591e-01 8.79731357e-01]\n",
            " [7.35930085e-01 2.64069945e-01]\n",
            " [4.25405741e-01 5.74594259e-01]\n",
            " [7.40002930e-01 2.59997070e-01]\n",
            " [7.96694309e-02 9.20330584e-01]\n",
            " [1.20415673e-01 8.79584312e-01]\n",
            " [7.31516540e-01 2.68483490e-01]\n",
            " [7.96694309e-02 9.20330584e-01]\n",
            " [6.69031441e-01 3.30968499e-01]\n",
            " [6.89210892e-01 3.10789019e-01]\n",
            " [6.80091918e-01 3.19908053e-01]\n",
            " [6.63751662e-01 3.36248249e-01]\n",
            " [9.16737095e-02 9.08326328e-01]\n",
            " [1.52805820e-03 9.98471916e-01]\n",
            " [8.63497630e-02 9.13650215e-01]\n",
            " [7.96694309e-02 9.20330584e-01]\n",
            " [7.96694309e-02 9.20330584e-01]\n",
            " [7.53732681e-01 2.46267378e-01]\n",
            " [7.48551130e-01 2.51448900e-01]\n",
            " [4.58111793e-01 5.41888177e-01]\n",
            " [7.31515527e-01 2.68484503e-01]\n",
            " [7.48365521e-01 2.51634449e-01]\n",
            " [4.93844390e-01 5.06155550e-01]\n",
            " [8.61518756e-02 9.13848162e-01]\n",
            " [7.31515527e-01 2.68484503e-01]\n",
            " [6.37310565e-01 3.62689435e-01]\n",
            " [7.53217697e-01 2.46782273e-01]\n",
            " [7.44487524e-01 2.55512446e-01]\n",
            " [7.96694309e-02 9.20330584e-01]\n",
            " [7.48722196e-01 2.51277775e-01]\n",
            " [4.83341873e-01 5.16658127e-01]\n",
            " [7.47249424e-01 2.52750546e-01]\n",
            " [7.50000179e-01 2.49999776e-01]\n",
            " [6.55119836e-01 3.44880134e-01]\n",
            " [6.90483510e-01 3.09516549e-01]\n",
            " [7.42461264e-01 2.57538706e-01]\n",
            " [8.63497630e-02 9.13650215e-01]\n",
            " [7.96694309e-02 9.20330584e-01]\n",
            " [4.84317839e-01 5.15682161e-01]\n",
            " [8.38152118e-07 9.99999166e-01]\n",
            " [6.37021959e-01 3.62978041e-01]\n",
            " [3.22777182e-01 6.77222788e-01]\n",
            " [7.36869514e-01 2.63130456e-01]\n",
            " [7.23580420e-01 2.76419610e-01]\n",
            " [7.48475790e-01 2.51524270e-01]\n",
            " [1.10478409e-01 8.89521539e-01]\n",
            " [7.96694309e-02 9.20330584e-01]\n",
            " [7.96694309e-02 9.20330584e-01]\n",
            " [4.48346704e-01 5.51653266e-01]\n",
            " [6.61448121e-01 3.38551879e-01]\n",
            " [7.45416880e-01 2.54583120e-01]\n",
            " [6.80524111e-01 3.19475859e-01]\n",
            " [7.44515896e-01 2.55484164e-01]\n",
            " [7.26474106e-01 2.73525923e-01]\n",
            " [6.66325271e-01 3.33674729e-01]\n",
            " [5.29632747e-01 4.70367223e-01]\n",
            " [7.96694309e-02 9.20330584e-01]\n",
            " [7.41915345e-01 2.58084714e-01]\n",
            " [7.96694309e-02 9.20330584e-01]\n",
            " [4.19582099e-01 5.80417871e-01]\n",
            " [6.77693844e-01 3.22306156e-01]\n",
            " [6.62496090e-01 3.37503910e-01]\n",
            " [7.96694309e-02 9.20330584e-01]\n",
            " [4.52194214e-01 5.47805846e-01]\n",
            " [7.31516540e-01 2.68483490e-01]\n",
            " [7.96694309e-02 9.20330584e-01]\n",
            " [7.45407164e-01 2.54592866e-01]\n",
            " [5.12729108e-01 4.87270951e-01]\n",
            " [6.72626197e-01 3.27373773e-01]\n",
            " [7.54431307e-01 2.45568618e-01]\n",
            " [6.61950886e-01 3.38049114e-01]\n",
            " [7.31515527e-01 2.68484503e-01]\n",
            " [6.60678566e-01 3.39321464e-01]\n",
            " [7.50045419e-01 2.49954551e-01]\n",
            " [8.05021942e-01 1.94978088e-01]\n",
            " [2.79099718e-02 9.72090006e-01]\n",
            " [7.63961434e-01 2.36038551e-01]\n",
            " [7.96694309e-02 9.20330584e-01]\n",
            " [6.66325271e-01 3.33674729e-01]\n",
            " [8.27045441e-02 9.17295456e-01]\n",
            " [6.64698780e-01 3.35301250e-01]\n",
            " [7.96694309e-02 9.20330584e-01]\n",
            " [7.96694309e-02 9.20330584e-01]\n",
            " [6.66047573e-01 3.33952427e-01]\n",
            " [6.48221791e-01 3.51778179e-01]\n",
            " [7.04696059e-01 2.95303971e-01]\n",
            " [7.96694309e-02 9.20330584e-01]\n",
            " [6.28235102e-01 3.71764868e-01]\n",
            " [7.96694309e-02 9.20330584e-01]\n",
            " [7.48405099e-01 2.51594841e-01]\n",
            " [7.40002930e-01 2.59997070e-01]\n",
            " [1.79427326e-01 8.20572674e-01]\n",
            " [8.09192896e-01 1.90807134e-01]\n",
            " [7.96694309e-02 9.20330584e-01]\n",
            " [7.96694309e-02 9.20330584e-01]\n",
            " [7.45227814e-01 2.54772156e-01]\n",
            " [7.96694309e-02 9.20330584e-01]\n",
            " [5.71914852e-01 4.28085178e-01]\n",
            " [7.40210354e-01 2.59789646e-01]\n",
            " [7.96694309e-02 9.20330584e-01]\n",
            " [7.96694309e-02 9.20330584e-01]\n",
            " [6.54366493e-01 3.45633507e-01]\n",
            " [6.73122168e-01 3.26877862e-01]\n",
            " [7.96694309e-02 9.20330584e-01]\n",
            " [6.36626363e-01 3.63373578e-01]\n",
            " [6.85284793e-01 3.14715236e-01]\n",
            " [7.96694309e-02 9.20330584e-01]\n",
            " [7.96694309e-02 9.20330584e-01]\n",
            " [2.41289824e-01 7.58710206e-01]\n",
            " [6.62789285e-01 3.37210685e-01]\n",
            " [6.22074842e-01 3.77925187e-01]\n",
            " [7.74035573e-01 2.25964472e-01]\n",
            " [7.40002930e-01 2.59997070e-01]\n",
            " [7.35973656e-01 2.64026314e-01]\n",
            " [1.13349877e-01 8.86650205e-01]\n",
            " [1.10924713e-01 8.89075339e-01]\n",
            " [6.70816541e-01 3.29183429e-01]\n",
            " [7.96694309e-02 9.20330584e-01]\n",
            " [7.42670298e-01 2.57329673e-01]\n",
            " [6.98693752e-01 3.01306218e-01]\n",
            " [7.31275797e-01 2.68724203e-01]\n",
            " [7.60647237e-01 2.39352793e-01]\n",
            " [3.72408271e-01 6.27591729e-01]\n",
            " [7.96694309e-02 9.20330584e-01]\n",
            " [7.10144997e-01 2.89854914e-01]\n",
            " [6.89068198e-01 3.10931832e-01]\n",
            " [7.80122280e-01 2.19877735e-01]\n",
            " [7.96694309e-02 9.20330584e-01]\n",
            " [7.34239697e-01 2.65760273e-01]\n",
            " [7.96694309e-02 9.20330584e-01]\n",
            " [7.40815997e-01 2.59183973e-01]\n",
            " [7.40683675e-01 2.59316325e-01]\n",
            " [7.96694309e-02 9.20330584e-01]\n",
            " [6.88456595e-01 3.11543375e-01]\n",
            " [7.96694309e-02 9.20330584e-01]\n",
            " [4.05108005e-01 5.94891906e-01]\n",
            " [5.44234157e-01 4.55765754e-01]\n",
            " [6.47341192e-01 3.52658808e-01]\n",
            " [6.75518513e-01 3.24481428e-01]\n",
            " [3.60187292e-01 6.39812708e-01]\n",
            " [8.63711983e-02 9.13628817e-01]\n",
            " [8.48380104e-02 9.15161967e-01]\n",
            " [8.63497630e-02 9.13650215e-01]\n",
            " [7.96694309e-02 9.20330584e-01]\n",
            " [1.11068591e-01 8.88931394e-01]\n",
            " [7.48365521e-01 2.51634449e-01]\n",
            " [7.96694309e-02 9.20330584e-01]\n",
            " [7.55971730e-01 2.44028240e-01]\n",
            " [7.48365521e-01 2.51634449e-01]\n",
            " [7.45781720e-01 2.54218310e-01]]\n"
          ],
          "name": "stdout"
        }
      ]
    },
    {
      "cell_type": "code",
      "metadata": {
        "id": "5XUUVnJM_wOR",
        "colab_type": "code",
        "colab": {}
      },
      "source": [
        "predictions = np.array(model.predict(imputed_test_data)).argmax(axis=1)"
      ],
      "execution_count": 87,
      "outputs": []
    },
    {
      "cell_type": "code",
      "metadata": {
        "id": "N-LDT0Wh_7Wk",
        "colab_type": "code",
        "colab": {
          "base_uri": "https://localhost:8080/",
          "height": 221
        },
        "outputId": "952c00e0-c809-49fe-b40e-abf96eb5c98f"
      },
      "source": [
        "print(predictions)"
      ],
      "execution_count": 88,
      "outputs": [
        {
          "output_type": "stream",
          "text": [
            "[0 1 0 0 1 0 1 0 1 0 0 0 1 0 1 1 0 0 1 1 0 1 1 1 1 0 1 0 0 0 0 0 1 1 1 0 1\n",
            " 1 0 0 0 0 0 1 1 0 1 0 1 1 1 0 1 1 0 0 0 0 0 1 0 0 0 1 1 1 1 0 1 1 1 0 1 1\n",
            " 1 1 0 1 0 1 1 0 0 0 0 0 1 1 1 1 1 0 1 0 1 0 1 0 1 0 1 0 0 0 1 0 0 0 0 0 0\n",
            " 1 1 1 1 0 0 1 1 1 1 0 1 0 0 1 0 1 0 0 0 0 1 0 0 0 0 0 1 0 1 1 1 0 0 0 1 0\n",
            " 0 0 1 0 0 1 0 0 1 1 0 1 1 1 1 0 0 1 1 0 1 1 0 0 0 0 0 1 1 0 1 1 0 1 1 0 1\n",
            " 0 1 0 0 0 0 0 0 0 1 0 1 1 0 1 1 1 1 1 0 1 1 0 1 0 0 0 0 1 0 0 1 0 1 0 1 0\n",
            " 1 0 1 1 0 1 0 0 0 1 0 0 1 0 0 0 1 1 1 1 1 0 0 0 1 0 1 1 1 0 1 0 0 0 0 0 1\n",
            " 0 0 0 1 1 0 0 0 0 1 0 1 0 1 1 0 1 0 0 0 0 1 1 1 1 1 0 0 1 0 0 1 1 0 0 0 0\n",
            " 1 0 1 0 0 0 0 0 1 1 1 1 0 1 0 0 0 1 1 1 1 0 0 0 0 0 0 0 1 0 1 1 0 0 1 1 0\n",
            " 1 0 0 0 0 0 0 0 0 0 1 0 1 0 1 0 1 1 0 0 0 1 0 1 0 0 1 0 1 1 0 1 0 0 1 1 0\n",
            " 0 1 0 0 1 1 1 0 0 0 0 0 1 1 0 1 0 0 0 0 1 1 0 0 0 1 0 1 0 0 1 0 1 1 0 0 0\n",
            " 1 1 1 1 1 1 0 1 0 0 0]\n"
          ],
          "name": "stdout"
        }
      ]
    },
    {
      "cell_type": "code",
      "metadata": {
        "id": "5S0Ff2DV_9Ew",
        "colab_type": "code",
        "colab": {}
      },
      "source": [
        ""
      ],
      "execution_count": null,
      "outputs": []
    }
  ]
}